{
 "cells": [
  {
   "cell_type": "code",
   "execution_count": 1,
   "metadata": {},
   "outputs": [
    {
     "name": "stderr",
     "output_type": "stream",
     "text": [
      "/opt/homebrew/lib/python3.13/site-packages/tqdm/auto.py:21: TqdmWarning: IProgress not found. Please update jupyter and ipywidgets. See https://ipywidgets.readthedocs.io/en/stable/user_install.html\n",
      "  from .autonotebook import tqdm as notebook_tqdm\n"
     ]
    }
   ],
   "source": [
    "from transformers import AutoTokenizer, AutoModelForMaskedLM\n",
    "import torch\n",
    "\n",
    "# Load tokenizer and model\n",
    "tokenizer = AutoTokenizer.from_pretrained(\"InstaDeepAI/nucleotide-transformer-500m-human-ref\")\n",
    "model = AutoModelForMaskedLM.from_pretrained(\"InstaDeepAI/nucleotide-transformer-500m-human-ref\")\n"
   ]
  },
  {
   "cell_type": "code",
   "execution_count": 2,
   "metadata": {},
   "outputs": [
    {
     "name": "stdout",
     "output_type": "stream",
     "text": [
      "Example DNA: CGGCGCTGGTGCCCAGGACGAGGATGGAGATT\n",
      "Example gRNA: CGGCGCTGGTGCCCAGGACGAGGATGGAGATT\n"
     ]
    }
   ],
   "source": [
    "import pandas as pd\n",
    "\n",
    "# Load your CSV\n",
    "df = pd.read_csv(\"awesomeData.csv\")  # Replace with actual path\n",
    "\n",
    "# Access the DNA and gRNA columns\n",
    "target_dna_list = df[\"target_dna\"].tolist()\n",
    "grna_list = df[\"grna_seq\"].tolist()\n",
    "\n",
    "# Optionally inspect\n",
    "print(\"Example DNA:\", target_dna_list[0])\n",
    "print(\"Example gRNA:\", grna_list[0])\n"
   ]
  },
  {
   "cell_type": "code",
   "execution_count": 3,
   "metadata": {},
   "outputs": [
    {
     "ename": "",
     "evalue": "",
     "output_type": "error",
     "traceback": [
      "\u001b[1;31mThe Kernel crashed while executing code in the the current cell or a previous cell. Please review the code in the cell(s) to identify a possible cause of the failure. Click <a href='https://aka.ms/vscodeJupyterKernelCrash'>here</a> for more info. View Jupyter <a href='command:jupyter.viewOutput'>log</a> for further details."
     ]
    }
   ],
   "source": [
    "from transformers import AutoTokenizer, AutoModelForMaskedLM\n",
    "import torch\n",
    "import torch.nn.functional as F\n",
    "\n",
    "tokenizer = AutoTokenizer.from_pretrained(\"InstaDeepAI/nucleotide-transformer-500m-human-ref\")\n",
    "model = AutoModelForMaskedLM.from_pretrained(\"InstaDeepAI/nucleotide-transformer-500m-human-ref\")\n",
    "model.eval()  # set to inference mode\n",
    "\n",
    "# Tokenize target DNA\n",
    "dna_tokens = tokenizer(target_dna_list, return_tensors=\"pt\", padding=True, truncation=True)\n",
    "dna_emb = model(**dna_tokens, output_hidden_states=True).hidden_states[-1]  # last layer\n",
    "dna_mean = dna_emb.mean(dim=1)  # mean pool over sequence length\n",
    "\n",
    "# Tokenize gRNAs\n",
    "grna_tokens = tokenizer(grna_list, return_tensors=\"pt\", padding=True, truncation=True)\n",
    "grna_emb = model(**grna_tokens, output_hidden_states=True).hidden_states[-1]\n",
    "grna_mean = grna_emb.mean(dim=1)\n",
    "\n",
    "# One-to-one similarity\n",
    "cos_sim = F.cosine_similarity(grna_mean, dna_mean)  # shape: (N,)\n",
    "df[\"cosine_similarity\"] = cos_sim.detach().numpy()\n",
    "\n",
    "print(df[[\"target_dna\", \"grna_seq\", \"cosine_similarity\"]].head())\n",
    "df.to_csv(\"grna_dna_similarity_output.csv\", index=False)"
   ]
  }
 ],
 "metadata": {
  "kernelspec": {
   "display_name": "Python 3",
   "language": "python",
   "name": "python3"
  },
  "language_info": {
   "codemirror_mode": {
    "name": "ipython",
    "version": 3
   },
   "file_extension": ".py",
   "mimetype": "text/x-python",
   "name": "python",
   "nbconvert_exporter": "python",
   "pygments_lexer": "ipython3",
   "version": "3.13.2"
  }
 },
 "nbformat": 4,
 "nbformat_minor": 2
}
